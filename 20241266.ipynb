{
  "nbformat": 4,
  "nbformat_minor": 0,
  "metadata": {
    "colab": {
      "provenance": [],
      "authorship_tag": "ABX9TyN8xlXaBW4bHCxy3FgGxBhd",
      "include_colab_link": true
    },
    "kernelspec": {
      "name": "python3",
      "display_name": "Python 3"
    },
    "language_info": {
      "name": "python"
    }
  },
  "cells": [
    {
      "cell_type": "markdown",
      "metadata": {
        "id": "view-in-github",
        "colab_type": "text"
      },
      "source": [
        "<a href=\"https://colab.research.google.com/github/1swjung7/naver.com/blob/main/Untitled0.ipynb\" target=\"_parent\"><img src=\"https://colab.research.google.com/assets/colab-badge.svg\" alt=\"Open In Colab\"/></a>"
      ]
    },
    {
      "cell_type": "code",
      "source": [
        "#과제 3번\n",
        "import heapq\n",
        "\n",
        "# (년도, 월, 일, 이름) 형식으로 정리\n",
        "birthdays = [\n",
        "    (2005, 3, 25, '남궁수아'),\n",
        "    (2004, 11, 21, '정세원'),\n",
        "    (2004, 6, 28, '김서빈'),\n",
        "    (2005, 11, 12, '이서영'),\n",
        "    (2005, 3, 24, '김미배'),\n",
        "    (2004, 10, 5, '이승주'),\n",
        "    (2005, 2, 24, '정재윤'),\n",
        "    (2003, 9, 17, '정혜윤'),\n",
        "    (2005, 10, 8, '최가온'),\n",
        "    (2004, 6, 11, '홍서연'),\n",
        "]\n",
        "\n",
        "# 최대 힙 구성: 월 * 100 + 일을 하나의 숫자로 만들어 음수로\n",
        "# 이 숫자가 클수록 생일이 늦은 날짜!\n",
        "heap = [(-(month * 100 + day), name) for (_, month, day, name) in birthdays]\n",
        "heapq.heapify(heap)\n",
        "\n",
        "# 생일이 늦은 순서로 10명 출력\n",
        "print(\"🎂 생일이 가장 늦은 친구 10명 (MM.DD):\")\n",
        "for _ in range(min(10, len(heap))):\n",
        "    md_value, name = heapq.heappop(heap)\n",
        "    md_value = -md_value\n",
        "    month = md_value // 100\n",
        "    day = md_value % 100\n",
        "    print(f\"{month:02d}.{day:02d} - {name}\")\n"
      ],
      "metadata": {
        "colab": {
          "base_uri": "https://localhost:8080/"
        },
        "id": "WyjrZ_lgbr96",
        "outputId": "63f48456-8a0e-4b15-e6be-0daa824052c3"
      },
      "execution_count": 12,
      "outputs": [
        {
          "output_type": "stream",
          "name": "stdout",
          "text": [
            "🎂 생일이 가장 늦은 친구 10명 (MM.DD):\n",
            "11.21 - 정세원\n",
            "11.12 - 이서영\n",
            "10.08 - 최가온\n",
            "10.05 - 이승주\n",
            "09.17 - 정혜윤\n",
            "06.28 - 김서빈\n",
            "06.11 - 홍서연\n",
            "03.25 - 남궁수아\n",
            "03.24 - 김미배\n",
            "02.24 - 정재윤\n"
          ]
        }
      ]
    },
    {
      "cell_type": "code",
      "source": [
        "#과제 4번\n",
        "class Node:\n",
        "    def __init__(self, name, birth, group):\n",
        "        self.name = name\n",
        "        self.birth = birth  # 생년월일 (ex: 20050325)\n",
        "        self.group = group  # 조 번호\n",
        "        self.prev = None\n",
        "        self.next = None\n",
        "\n",
        "class CircularDoublyLinkedList:\n",
        "    def __init__(self):\n",
        "        self.head = None\n",
        "\n",
        "    def append(self, name, birth, group):\n",
        "        new_node = Node(name, birth, group)\n",
        "        if self.head is None:\n",
        "            self.head = new_node\n",
        "            new_node.prev = new_node\n",
        "            new_node.next = new_node\n",
        "        else:\n",
        "            tail = self.head.prev\n",
        "            tail.next = new_node\n",
        "            new_node.prev = tail\n",
        "            new_node.next = self.head\n",
        "            self.head.prev = new_node\n",
        "\n",
        "    def print_group(self, target_group):\n",
        "        if self.head is None:\n",
        "            print(\"리스트가 비어 있습니다.\")\n",
        "            return\n",
        "\n",
        "        print(f\"\\n {target_group}조 친구 목록:\")\n",
        "        curr = self.head\n",
        "        visited = set()  # 무한 루프 방지용\n",
        "        while True:\n",
        "            if curr.group == target_group:\n",
        "                print(f\"이름: {curr.name}, 생년월일: {curr.birth}\")\n",
        "            curr = curr.next\n",
        "            if curr == self.head:\n",
        "                break\n",
        "\n",
        "#  리스트 생성\n",
        "cdll = CircularDoublyLinkedList()\n",
        "\n",
        "#  생일 데이터: 이름, 생년월일, 조\n",
        "friends = [\n",
        "    (\"남궁수아\", 20050325, 5),\n",
        "    (\"정세원\", 20041121, 5),\n",
        "    (\"이우정\", 20020324, 5),\n",
        "    (\"김정민\", 20050422, 5),\n",
        "    (\"김혜정\", 20050501, 5),\n",
        "    (\"신다연\", 20041206, 5),\n",
        "    (\"신지예\", 20040707, 5),\n",
        "]\n",
        "\n",
        "#  데이터 삽입\n",
        "for name, birth, group in friends:\n",
        "    cdll.append(name, birth, group)\n",
        "\n",
        "#  원하는 조 출력 (예: 5조)\n",
        "cdll.print_group(5)\n"
      ],
      "metadata": {
        "colab": {
          "base_uri": "https://localhost:8080/"
        },
        "id": "YIMRfbVwbvIs",
        "outputId": "44ba53cb-623f-45c1-d0d7-bbc399546ea8"
      },
      "execution_count": 14,
      "outputs": [
        {
          "output_type": "stream",
          "name": "stdout",
          "text": [
            "\n",
            " 5조 친구 목록:\n",
            "이름: 남궁수아, 생년월일: 20050325\n",
            "이름: 정세원, 생년월일: 20041121\n",
            "이름: 이우정, 생년월일: 20020324\n",
            "이름: 김정민, 생년월일: 20050422\n",
            "이름: 김혜정, 생년월일: 20050501\n",
            "이름: 신다연, 생년월일: 20041206\n",
            "이름: 신지예, 생년월일: 20040707\n"
          ]
        }
      ]
    },
    {
      "cell_type": "code",
      "source": [
        "#우선 순위 큐 1번\n",
        "임의의 최대 힙에서 더 얕은 곳에 있는 원소가 더 깊은 곳에 있는 원소보다 더 작은 값을 가질 수 있다.\n",
        "예를 들어보면, heap[1] = 7, heap[2] = 10, heap[5] = 9인 힙이 있다. heap[1]과 heap[2]는 깊이가 같고, heap[5]는 heap[1]보다 깊이가 깊지만 값은 작다. heap[5]는 heap[2]의 자식 노드로, heap[2] > heap[5]이기 때문에 힙의 조건을 만족한다."
      ],
      "metadata": {
        "id": "-IhhlrAu4sPj"
      },
      "execution_count": null,
      "outputs": []
    },
    {
      "cell_type": "code",
      "source": [
        "#2\n",
        "최대 힙의 마지막 원소가 항상 가장 작은 값은 아니다.\n",
        "heap[0] = 10, heap[1] = 7, heap[2] = 9이고 이 두 노드가 말단 노드인 힙이 있다고 한다. 이 힙은 heap[0] > heap[1], heap[0] > heap[2]가 되어 힙의 조건을 만족하며, heap[n-2] < heap[n-1]을 만족하는 힙이다."
      ],
      "metadata": {
        "id": "9hpT9ug65zQI"
      },
      "execution_count": null,
      "outputs": []
    },
    {
      "cell_type": "code",
      "source": [
        "#3\n",
        "길이가 n인 임의의 리스트를 힙으로 만들 때, 마지막 요소의 인덱스는 n-1이다. 따라서 인덱스가 ((n-1)-1)//2 즉 (n-2)//2부터 0까지의 인덱스를 갖는 요소를 대상으로 스며내리기를 진행한다.\n",
        "따라서 루트의 자격으로 스며내리기를 하지 않고 그냥 넘어가는 원소 수는 정확하게 n-1-(n-2)//2개이다."
      ],
      "metadata": {
        "id": "qb2K2KL454qj"
      },
      "execution_count": null,
      "outputs": []
    },
    {
      "cell_type": "code",
      "source": [
        "#4\n",
        "길이가 n인 리스트를 대상으로 하는 스며내리기 알고리즘에서 최악의 경우 Θ(logn)의 시간이 소요된다. 이진 탐색 트리의 깊이에 따라 층을 나누면 층의 개수는 약 (logn + 1)개가 된다. 스며내리기의 대상이 되는 리스트의 인덱스가 0인 요소가 이 리스트의 가장 작은 값이라면 최악의 경우가 되어, 스며내리기를 logn번 진행해야 한다.\n",
        "최선의 경우에는 Θ(1)의 시간이 소요된다. 스며내리기의 대상이 되는 리스트의 인덱스가 0인 요소가 이 리스트의 가장 큰 값이라면 인덱스가 1, 2인 요소보다 크기 때문에 스며내리기는 진행되지 않고 멈춘다.\n"
      ],
      "metadata": {
        "id": "LabBQ8ZH5-G8"
      },
      "execution_count": null,
      "outputs": []
    },
    {
      "cell_type": "code",
      "source": [
        "#5\n",
        "이 문제에서 말하는 마지막 원소가 단순히 리스트의 마지막 원소라면 매우 간단히 원소를 삭제할 수 있다.\n",
        "\n",
        "하지만 여기서 말하는 마지막 원소가 우선순위의 마지막이 되는 원소라면 힙의 마지막 원소를 삭제하는 작업은 그렇게 간단하지는 않다. 연습문제 2번에서 확인한 바와 같이 마지막 원소가 항상 가장 작은 값을 가지지도 않고, 연습문제 1번에서 확인한 바와 같이 깊이가 깊은 원소가 항상 깊이가 얕은 원소보다 작은 값을 가지지도 않는다.\n",
        "하지만 힙의 특성상 자식 노드는 부모 노드보다 작은 값을 가지기 때문에, 깊이가 2인 모든 서브 트리들의 원소들만 비교하면 가장 마지막 원소를 어렵지 않게 찾을 수 있다. 겨우 깊이가 2인 서브 트리이기 때문에 원소의 삭제 작업도 간단하다."
      ],
      "metadata": {
        "id": "S1pNJP8Y6Dfx"
      },
      "execution_count": null,
      "outputs": []
    },
    {
      "cell_type": "code",
      "source": [
        "#6\n",
        "위쪽부터 시작해서 스며오르기를 반복하여 build_heap() 알고리즘을 구현한다고 해보자. index가 0인 요소에는 이미 맨 위의 요소이므로 스며오르기를 할 수 없다. 따라서 index가 1인 요소부터 index가 n-1(마지막)인 요소까지 진행한다. 처음 스며오르기를 진행할 땐 대상 노드의 깊이가 얕기 때문에 비교와 교체 작업이 많지 않지만, index가 커질수록 대상 노드의 깊이가 깊어져 스며오르기를 logn번 진행해야 할 수도 있다.\n",
        "n/2 * logn + n/4 * log(n-1) + n/8 * log(n-2) + ... + n/(2**(n-1)) * log2 즉 Θ(nlogn)의 시간이 소요된다. 이 방법은 Θ(n)의 시간이 소요되는 스며내리기를 이용한 build_heap() 알고리즘보다 비효율적이다."
      ],
      "metadata": {
        "id": "Oabx6eoB6HjS"
      },
      "execution_count": null,
      "outputs": []
    },
    {
      "cell_type": "code",
      "source": [
        "#7\n",
        "임의의 원소의 값이 증가했다면, 그 원소에 해당하는 노드를 제거하는 delete_max() 작업을 실행한다. 이 작업에 소요되는 시간은 O(logn)이다. 그리고 증가한 원소의 값을 갖는 노드를 힙에 추가한다. 노드를 추가하는 작업 insert()는 O(logn)의 시간이 든다.\n",
        "이 두 작업을 통해 힙을 O(logn) 시간만에 변화를 반영하여 힙을 수선할 수 있다"
      ],
      "metadata": {
        "id": "WyuH2_Z06L5m"
      },
      "execution_count": null,
      "outputs": []
    },
    {
      "cell_type": "code",
      "execution_count": 2,
      "metadata": {
        "id": "q2apF8s9zLAr"
      },
      "outputs": [],
      "source": [
        "#LeetCode 703.Kth Largest Element in Stream\n",
        "class KthLargest(object):\n",
        "\n",
        "    def __init__(self, k, nums):\n",
        "        self.k = k\n",
        "        self.nums = nums\n",
        "        heapq.heapify(self.nums)  # Convert nums into a heap\n",
        "        # If the heap is larger than k, remove the smallest elements until it has exactly k elements\n",
        "        while len(self.nums) > k:\n",
        "            heapq.heappop(self.nums)\n",
        "\n",
        "    def add(self, val):\n",
        "        heapq.heappush(self.nums, val)\n",
        "        # If after adding the new value, the heap has more than k elements, pop the smallest\n",
        "        if len(self.nums) > self.k:\n",
        "            heapq.heappop(self.nums)\n",
        "        # The smallest element in the heap is now the k-th largest element\n",
        "        return self.nums[0]"
      ]
    }
  ]
}
